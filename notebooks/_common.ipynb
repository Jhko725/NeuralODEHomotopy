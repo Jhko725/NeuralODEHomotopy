{
 "cells": [
  {
   "cell_type": "markdown",
   "metadata": {},
   "source": [
    "### Common scripts to be run at the start of each notebook\n",
    "Includes\n",
    "- Import path configuration (allow module imports from parent folder)\n",
    "- Matplotlib plot style configuration"
   ]
  },
  {
   "cell_type": "code",
   "execution_count": null,
   "metadata": {},
   "outputs": [],
   "source": [
    "import sys\n",
    "\n",
    "import matplotlib\n",
    "\n",
    "# Enable import from parent folder\n",
    "sys.path.insert(0, \"..\")\n",
    "\n",
    "# Configure matplotlib\n",
    "matplotlib.rc(\"figure\", figsize = (5, 3))\n",
    "matplotlib.rc(\"figure.constrained_layout\", use = True)\n",
    "matplotlib.rc(\"axes\", grid=True)\n",
    "matplotlib.rc(\"axes.spines\", right=False, top=False)\n",
    "matplotlib.rc(\"grid\", color=\"lightgray\", linestyle=\"--\")\n",
    "matplotlib.rc(\"lines\", markersize = 2.0, linewidth=1.0)\n"
   ]
  },
  {
   "cell_type": "code",
   "execution_count": null,
   "metadata": {},
   "outputs": [],
   "source": []
  }
 ],
 "metadata": {
  "kernelspec": {
   "display_name": "equinox",
   "language": "python",
   "name": "python3"
  },
  "language_info": {
   "codemirror_mode": {
    "name": "ipython",
    "version": 3
   },
   "file_extension": ".py",
   "mimetype": "text/x-python",
   "name": "python",
   "nbconvert_exporter": "python",
   "pygments_lexer": "ipython3",
   "version": "3.11.5"
  }
 },
 "nbformat": 4,
 "nbformat_minor": 2
}
